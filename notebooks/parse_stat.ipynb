{
 "cells": [
  {
   "cell_type": "code",
   "execution_count": 5,
   "id": "ef9096e6",
   "metadata": {},
   "outputs": [],
   "source": [
    "import json\n",
    "from pathlib import Path\n",
    "import pandas as pd"
   ]
  },
  {
   "cell_type": "code",
   "execution_count": 6,
   "id": "7068f97f",
   "metadata": {},
   "outputs": [],
   "source": [
    "file_root = Path(\"/Users/jliu/workspace/RAG/results/geometry/individual/MI/longtail_50\")\n"
   ]
  },
  {
   "cell_type": "code",
   "execution_count": null,
   "id": "ee5e337f",
   "metadata": {},
   "outputs": [],
   "source": [
    "def load_stat(json_path:Path,)->pd.DataFrame:\n",
    "    \"\"\"Load stat from the target file.\"\"\"\n",
    "\n",
    "    return stat_df"
   ]
  },
  {
   "cell_type": "code",
   "execution_count": 7,
   "id": "a10590ae",
   "metadata": {},
   "outputs": [],
   "source": [
    "model = \"gpt2\"\n",
    "group_size = 10\n",
    "json_path = file_root / model / \"prob\" / f\"500_{group_size}.json\"\n",
    "\n",
    "with open(json_path, 'r') as f:\n",
    "    data = json.load(f)\n",
    "    "
   ]
  },
  {
   "cell_type": "code",
   "execution_count": 10,
   "id": "5b96383c",
   "metadata": {},
   "outputs": [
    {
     "data": {
      "text/plain": [
       "dict_keys(['context_dependent_coordination', 'nonlinear_coordination_patterns', 'temporal_coordination', 'collective_coordination', 'statistical_comparisons', 'analysis_metadata'])"
      ]
     },
     "execution_count": 10,
     "metadata": {},
     "output_type": "execute_result"
    }
   ],
   "source": [
    "data['-1'].keys()"
   ]
  }
 ],
 "metadata": {
  "kernelspec": {
   "display_name": "neuron",
   "language": "python",
   "name": "python3"
  },
  "language_info": {
   "codemirror_mode": {
    "name": "ipython",
    "version": 3
   },
   "file_extension": ".py",
   "mimetype": "text/x-python",
   "name": "python",
   "nbconvert_exporter": "python",
   "pygments_lexer": "ipython3",
   "version": "3.9.21"
  }
 },
 "nbformat": 4,
 "nbformat_minor": 5
}
