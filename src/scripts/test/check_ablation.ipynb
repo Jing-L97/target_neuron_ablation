{
 "cells": [
  {
   "cell_type": "markdown",
   "metadata": {},
   "source": [
    "# visualize surprisal development\n"
   ]
  },
  {
   "cell_type": "code",
   "execution_count": 1,
   "metadata": {},
   "outputs": [],
   "source": [
    "import pandas as pd\n",
    "\n",
    "# load .feather file\n",
    "data = pd.read_feather(\"k10.feather\")\n",
    "data.columns"
   ]
  },
  {
   "cell_type": "code",
   "execution_count": 3,
   "metadata": {},
   "outputs": [],
   "source": [
    "import ast\n",
    "\n",
    "def _convert_to_list(input_val: str | list) -> list[int | float]:\n",
    "    \"\"\"Convert the input into the a list.\"\"\"\n",
    "    return ast.literal_eval(input_val) if not isinstance(input_val, list) else input_val\n",
    "\n",
    "def parse_neurons(neuron: str) -> int:\n",
    "    \"\"\"Parse neuron index.\"\"\"\n",
    "    return int(str(float(neuron)).split(\".\")[1])\n",
    "\n",
    "\n",
    "def extract_neurons(neuron_value,top_n) -> list[int]:\n",
    "    \"\"\"Extract neuron indices from the inputs strings..\"\"\"\n",
    "    float_neurons = _convert_to_list(neuron_value)\n",
    "    # Extract the decimal part as integer; Converts '5.2021' format to 2021.\n",
    "    neurons = [parse_neurons(str(neuron)) for neuron in float_neurons]\n",
    "    # Limit to top_n if requested\n",
    "    # if self.top_n > 0 and len(neurons) > self.top_n:\n",
    "    if top_n < 0:\n",
    "        raise ValueError(\"The neuron number must be non-negative\")\n",
    "    neurons = neurons[: top_n]\n",
    "    # Get layer number from the first neuron (assuming all neurons are from the same layer)\n",
    "    layer_num = int(str(float(float_neurons[0])).split(\".\")[0])\n",
    "    return neurons, layer_num"
   ]
  },
  {
   "cell_type": "code",
   "execution_count": 6,
   "metadata": {},
   "outputs": [],
   "source": [
    "neuron_value = ['5.1', '5.0']\n",
    "top_n  =10\n",
    "float_neurons = _convert_to_list(neuron_value)\n",
    "neurons = [parse_neurons(str(neuron)) for neuron in float_neurons]\n",
    "neurons = neurons[: top_n]"
   ]
  },
  {
   "cell_type": "code",
   "execution_count": 7,
   "metadata": {},
   "outputs": [
    {
     "data": {
      "text/plain": [
       "[1, 0]"
      ]
     },
     "execution_count": 7,
     "metadata": {},
     "output_type": "execute_result"
    }
   ],
   "source": [
    "neurons"
   ]
  },
  {
   "cell_type": "code",
   "execution_count": 8,
   "metadata": {},
   "outputs": [],
   "source": [
    "layer_num = int(str(float(float_neurons[0])).split(\".\")[0])"
   ]
  },
  {
   "cell_type": "code",
   "execution_count": 9,
   "metadata": {},
   "outputs": [
    {
     "data": {
      "text/plain": [
       "5"
      ]
     },
     "execution_count": 9,
     "metadata": {},
     "output_type": "execute_result"
    }
   ],
   "source": [
    "layer_num"
   ]
  }
 ],
 "metadata": {
  "kernelspec": {
   "display_name": "genai",
   "language": "python",
   "name": "python3"
  },
  "language_info": {
   "codemirror_mode": {
    "name": "ipython",
    "version": 3
   },
   "file_extension": ".py",
   "mimetype": "text/x-python",
   "name": "python",
   "nbconvert_exporter": "python",
   "pygments_lexer": "ipython3",
   "version": "3.12.4"
  }
 },
 "nbformat": 4,
 "nbformat_minor": 2
}
