{
 "cells": [
  {
   "cell_type": "markdown",
   "metadata": {},
   "source": [
    "# visualize surprisal development\n"
   ]
  },
  {
   "cell_type": "code",
   "execution_count": 1,
   "metadata": {},
   "outputs": [],
   "source": [
    "from pathlib import Path\n",
    "import pandas as pd\n",
    "\n",
    "ROOT = Path(\"/Users/jliu/workspace/RAG/\")\n",
    "surprisal_path = ROOT / \"results\" / \"surprisal\""
   ]
  },
  {
   "cell_type": "code",
   "execution_count": 8,
   "metadata": {},
   "outputs": [],
   "source": [
    "def format_csv(file_path:Path)->pd.DataFrame:\n",
    "    \"\"\"Remove the target col from the csv file.\"\"\"\n",
    "    df = pd.read_csv(file_path)\n",
    "    #df = df.drop('ablated_neurons', axis=1)\n",
    "    # convert differnet steps into different rows\n",
    "    df_h = df[df[\"step\"]==0]\n",
    "    df_h = df_h.drop('surprisal', axis=1)\n",
    "    df_grouped = df.groupby(\"step\")\n",
    "    for step, df_group, in df_grouped:\n",
    "        df_h[step] = df_group['surprisal'].to_list()\n",
    "    return df_h"
   ]
  },
  {
   "cell_type": "code",
   "execution_count": 9,
   "metadata": {},
   "outputs": [],
   "source": [
    "# load freq file\n",
    "file_path = surprisal_path/\"pythia-example.csv\"\n",
    "df_h = format_csv(file_path)"
   ]
  }
 ],
 "metadata": {
  "kernelspec": {
   "display_name": "genai",
   "language": "python",
   "name": "python3"
  },
  "language_info": {
   "codemirror_mode": {
    "name": "ipython",
    "version": 3
   },
   "file_extension": ".py",
   "mimetype": "text/x-python",
   "name": "python",
   "nbconvert_exporter": "python",
   "pygments_lexer": "ipython3",
   "version": "3.12.4"
  }
 },
 "nbformat": 4,
 "nbformat_minor": 2
}
