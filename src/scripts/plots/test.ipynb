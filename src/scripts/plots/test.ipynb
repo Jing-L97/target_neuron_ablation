{
 "cells": [
  {
   "cell_type": "markdown",
   "metadata": {},
   "source": [
    "# visualize surprisal development\n"
   ]
  },
  {
   "cell_type": "code",
   "execution_count": 1,
   "metadata": {},
   "outputs": [],
   "source": [
    "from pathlib import Path\n",
    "import pandas as pd\n",
    "\n",
    "ROOT = Path(\"/Users/jliu/workspace/RAG/\")\n",
    "surprisal_path = ROOT / \"results\" / \"surprisal\""
   ]
  },
  {
   "cell_type": "code",
   "execution_count": 8,
   "metadata": {},
   "outputs": [],
   "source": [
    "def format_csv(file_path:Path)->pd.DataFrame:\n",
    "    \"\"\"Remove the target col from the csv file.\"\"\"\n",
    "    df = pd.read_csv(file_path)\n",
    "    #df = df.drop('ablated_neurons', axis=1)\n",
    "    # convert differnet steps into different rows\n",
    "    df_h = df[df[\"step\"]==0]\n",
    "    df_h = df_h.drop('surprisal', axis=1)\n",
    "    df_grouped = df.groupby(\"step\")\n",
    "    for step, df_group, in df_grouped:\n",
    "        df_h[step] = df_group['surprisal'].to_list()\n",
    "    return df_h"
   ]
  },
  {
   "cell_type": "code",
   "execution_count": 9,
   "metadata": {},
   "outputs": [],
   "source": [
    "# load freq file\n",
    "file_path = surprisal_path/\"pythia-example.csv\"\n",
    "df_h = format_csv(file_path)"
   ]
  },
  {
   "cell_type": "code",
   "execution_count": 3,
   "metadata": {},
   "outputs": [
    {
     "name": "stdout",
     "output_type": "stream",
     "text": [
      "DataFrame A:\n",
      "   id     name  age  score\n",
      "0   1    Alice   25     95\n",
      "1   2      Bob   30     85\n",
      "2   3  Charlie   35     75\n",
      "3   4    David   40     90\n",
      "4   5      Eve   45     80\n",
      "\n",
      "DataFrame B:\n",
      "   id     name  age\n",
      "0   2      Bob   30\n",
      "1   3  Charlie  356\n",
      "2   6    Frank   17\n",
      "\n",
      "Result after selecting rows:\n",
      "   id     name  age  score\n",
      "0   2      Bob   30   85.0\n",
      "1   3  Charlie  356    NaN\n",
      "2   6    Frank   17    NaN\n"
     ]
    }
   ],
   "source": [
    "import pandas as pd\n",
    "import numpy as np\n",
    "import typing as t\n",
    "from pathlib import Path\n",
    "\n",
    "def select_matching_rows(\n",
    "    df_a: pd.DataFrame,\n",
    "    df_b: pd.DataFrame,\n",
    "    match_columns: list[str]\n",
    ") -> pd.DataFrame:\n",
    "    \"\"\"Select rows from df_a that match with df_b on specified columns.\"\"\"\n",
    "    # Validate that match_columns exist in both DataFrames\n",
    "    for col in match_columns:\n",
    "        if col not in df_a.columns or col not in df_b.columns:\n",
    "            raise ValueError(f\"Column '{col}' not found in both DataFrames\")\n",
    "    \n",
    "    # Perform a left merge from df_b to df_a on the match_columns\n",
    "    # This will keep all rows from df_b and only matching rows from df_a\n",
    "    result = pd.merge(\n",
    "        df_b,\n",
    "        df_a,\n",
    "        on=match_columns,\n",
    "        how='left',\n",
    "        indicator=True\n",
    "    )\n",
    "    \n",
    "    # Remove the indicator column if not needed\n",
    "    if '_merge' in result.columns:\n",
    "        result = result.drop(columns=['_merge'])\n",
    "        \n",
    "    return result\n",
    "\n",
    "def test_select_matching_rows() -> None:\n",
    "    \"\"\"Test the select_matching_rows function with sample DataFrames.\"\"\"\n",
    "    # Create sample DataFrame A\n",
    "    data_a = {\n",
    "        \"id\": [1, 2, 3, 4, 5],\n",
    "        \"name\": [\"Alice\", \"Bob\", \"Charlie\", \"David\", \"Eve\"],\n",
    "        \"age\": [25, 30, 35, 40, 45],\n",
    "        \"score\": [95, 85, 75, 90, 80]\n",
    "    }\n",
    "    df_a = pd.DataFrame(data_a)\n",
    "    \n",
    "    # Create sample DataFrame B (subset with some missing and some extra rows)\n",
    "    data_b = {\n",
    "        \"id\": [2, 3, 6],\n",
    "        \"name\": [\"Bob\", \"Charlie\", \"Frank\"],\n",
    "        \"age\": [30, 356,17]\n",
    "    }\n",
    "    df_b = pd.DataFrame(data_b)\n",
    "    \n",
    "    print(\"DataFrame A:\")\n",
    "    print(df_a)\n",
    "    print(\"\\nDataFrame B:\")\n",
    "    print(df_b)\n",
    "    \n",
    "    # Select rows from A that match with B on 'id' and 'name'\n",
    "    result = select_matching_rows(df_a, df_b, [\"id\", \"name\",\"age\"])\n",
    "    \n",
    "    print(\"\\nResult after selecting rows:\")\n",
    "    print(result)\n",
    "\n",
    "if __name__ == \"__main__\":\n",
    "    test_select_matching_rows()"
   ]
  }
 ],
 "metadata": {
  "kernelspec": {
   "display_name": "genai",
   "language": "python",
   "name": "python3"
  },
  "language_info": {
   "codemirror_mode": {
    "name": "ipython",
    "version": 3
   },
   "file_extension": ".py",
   "mimetype": "text/x-python",
   "name": "python",
   "nbconvert_exporter": "python",
   "pygments_lexer": "ipython3",
   "version": "3.12.4"
  }
 },
 "nbformat": 4,
 "nbformat_minor": 2
}
