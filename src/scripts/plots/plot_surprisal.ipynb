{
 "cells": [
  {
   "cell_type": "markdown",
   "metadata": {},
   "source": [
    "# Set configs\n"
   ]
  },
  {
   "cell_type": "code",
   "execution_count": 7,
   "metadata": {},
   "outputs": [],
   "source": [
    "from pathlib import Path\n",
    "\n",
    "import pandas as pd\n",
    "from scipy import stats\n"
   ]
  },
  {
   "cell_type": "code",
   "execution_count": 2,
   "metadata": {},
   "outputs": [],
   "source": [
    "# load all the predefined functions\n",
    "from plot_util import SurprisalLoader, SurprisalPlotter, plot_geometry_step, load_kl\n",
    "\n",
    "# plot and save the results\n",
    "neuron_colors = {\n",
    "    0: \"#1f77b4\",  # blue for baseline\n",
    "    1: \"#4589b9\",  # interpolated between 0 and 10\n",
    "    2: \"#6b9bbe\",  # interpolated between 0 and 10\n",
    "    5: \"#a5bec6\",  # interpolated between 0 and 10\n",
    "    10: \"#ff7f0e\",  # orange (unchanged)\n",
    "    25: \"#c89f1d\",  # interpolated between 10 and 50\n",
    "    50: \"#2ca02c\",  # green (unchanged)\n",
    "    500: \"#9467bd\",  # purple (unchanged)\n",
    "}"
   ]
  },
  {
   "cell_type": "code",
   "execution_count": 3,
   "metadata": {},
   "outputs": [],
   "source": [
    "ROOT = Path(\"/Users/jliu/workspace/RAG/\")\n",
    "fig_path = ROOT / \"fig\"\n",
    "surprisal_path = ROOT / \"results\" / \"surprisal\"\n",
    "KL_path = ROOT / \"results\" / \"token_freq\"\n",
    "geometry_path = ROOT / \"results\" / \"directions\" / \"geometry\" / \"EleutherAI\"\n",
    "freq_path = ROOT / \"datasets/freq/EleutherAI/pythia-410m\""
   ]
  },
  {
   "cell_type": "code",
   "execution_count": 1,
   "metadata": {},
   "outputs": [],
   "source": [
    "import pandas as pd\n",
    "import typing as t\n",
    "\n",
    "def rank_neurons(df: pd.DataFrame) -> pd.DataFrame:\n",
    "    \"\"\"\n",
    "    Sort neurons by mediation effect and KL divergence, both in descending order.\n",
    "    \n",
    "    Args:\n",
    "        df: DataFrame containing neuron data with required columns\n",
    "        \n",
    "    Returns:\n",
    "        Sorted DataFrame with neurons ranked by importance\n",
    "    \"\"\"\n",
    "    return df.sort_values(\n",
    "        by=[\"mediation_effect\", \"abs_kl_from_unigram_diff\"], \n",
    "        ascending=[False, False]\n",
    "    )\n",
    "\n",
    "# Example usage\n",
    "def test_ranking() -> None:\n",
    "    \"\"\"Test the ranking function with sample data.\"\"\"\n",
    "    # Create sample data\n",
    "    data = {\n",
    "        \"neuron_id\": [1, 2, 3, 4],\n",
    "        \"mediation_effect\": [0.5, 0.7, 0.5, 0.3],\n",
    "        \"abs_kl_from_unigram_diff\": [0.2, 0.1, 0.3, 0.4]\n",
    "    }\n",
    "    test_df = pd.DataFrame(data)\n",
    "    \n",
    "    # Apply ranking\n",
    "    result = rank_neurons(test_df)\n",
    "    print(\"Ranked neurons:\")\n",
    "    print(result)\n",
    "    return result \n"
   ]
  },
  {
   "cell_type": "code",
   "execution_count": 2,
   "metadata": {},
   "outputs": [
    {
     "name": "stdout",
     "output_type": "stream",
     "text": [
      "Ranked neurons:\n",
      "   neuron_id  mediation_effect  abs_kl_from_unigram_diff\n",
      "1          2               0.7                       0.1\n",
      "2          3               0.5                       0.3\n",
      "0          1               0.5                       0.2\n",
      "3          4               0.3                       0.4\n"
     ]
    }
   ],
   "source": [
    "result=test_ranking()"
   ]
  },
  {
   "cell_type": "markdown",
   "metadata": {},
   "source": [
    "## Surprisal dynamics"
   ]
  },
  {
   "cell_type": "code",
   "execution_count": 5,
   "metadata": {},
   "outputs": [
    {
     "name": "stdout",
     "output_type": "stream",
     "text": [
      "Stat file has been saved to /Users/jliu/workspace/RAG/results/surprisal/stat_all.csv\n"
     ]
    }
   ],
   "source": [
    "# load file\n",
    "stat_path = surprisal_path / \"stat_all.csv\"\n",
    "resume = False\n",
    "if stat_path.is_file() and resume:\n",
    "    stat_frame = pd.read_csv(stat_path)\n",
    "    print(f\"Load from {stat_path}\")\n",
    "else:\n",
    "    analyzer = SurprisalLoader(surprisal_path)\n",
    "    # Process all files and get statistics\n",
    "    stats = analyzer.get_stat_all()\n"
   ]
  },
  {
   "cell_type": "code",
   "execution_count": 19,
   "metadata": {},
   "outputs": [
    {
     "data": {
      "text/plain": [
       "[1, 2, 3]"
      ]
     },
     "execution_count": 19,
     "metadata": {},
     "output_type": "execute_result"
    }
   ],
   "source": [
    "test = [1,2,3,4,5]\n",
    "test[:3]"
   ]
  },
  {
   "cell_type": "code",
   "execution_count": 15,
   "metadata": {},
   "outputs": [],
   "source": [
    "data = pd.read_csv(\"/Users/jliu/workspace/RAG/results/directions/500_50.debug\")"
   ]
  },
  {
   "cell_type": "code",
   "execution_count": 1,
   "metadata": {},
   "outputs": [],
   "source": [
    "header_dict = {\n",
    "        \"component_name\":\"top_neurons\",\n",
    "        \"mediation_effect\":\"med_effect\",\n",
    "        \"kl_from_unigram_diff\":\"kl_diff\",\n",
    "        \"delta_loss_post_ablation\": \"delta_loss_post\",\n",
    "        \"delta_loss_post_ablation_with_frozen_unigram\": \"delta_loss_post_frozen\"\n",
    "        }"
   ]
  },
  {
   "cell_type": "code",
   "execution_count": 4,
   "metadata": {},
   "outputs": [
    {
     "data": {
      "text/plain": [
       "['top_neurons',\n",
       " 'med_effect',\n",
       " 'kl_diff',\n",
       " 'delta_loss_post',\n",
       " 'delta_loss_post_frozen']"
      ]
     },
     "execution_count": 4,
     "metadata": {},
     "output_type": "execute_result"
    }
   ],
   "source": [
    "list(header_dict.values())"
   ]
  },
  {
   "cell_type": "code",
   "execution_count": 11,
   "metadata": {},
   "outputs": [
    {
     "data": {
      "text/plain": [
       "90.23107147216795"
      ]
     },
     "execution_count": 11,
     "metadata": {},
     "output_type": "execute_result"
    }
   ],
   "source": [
    "data[\"full_mean_angle_degrees\"].max()"
   ]
  },
  {
   "cell_type": "code",
   "execution_count": 6,
   "metadata": {},
   "outputs": [],
   "source": [
    "ylim_dict = {\n",
    "    \"merged\": {\"70m\": [11.5, 15.5], \"410m\": [12.5, 14]},\n",
    "    \"longtail_words\": {\"70m\": [13, 17], \"410m\": [13, 15.5]},\n",
    "}\n",
    "\n",
    "\n",
    "surprisal_plotter = SurprisalPlotter(\n",
    "    df=stats,\n",
    "    output_dir=fig_path/\"surprisal\",\n",
    "    neuron_colors=neuron_colors,\n",
    "    ylim_dict=ylim_dict,\n",
    "    neurons=[10, 50, 500],\n",
    "    #ablations=[\"random\", \"mean\", \"zero\"],\n",
    ")\n",
    "\n",
    "surprisal_plotter.plot_all(eval_set=\"longtail_words\")\n"
   ]
  },
  {
   "cell_type": "markdown",
   "metadata": {},
   "source": [
    "## KL distribution\n"
   ]
  },
  {
   "cell_type": "code",
   "execution_count": 118,
   "metadata": {},
   "outputs": [],
   "source": [
    "# plot KL difference in differnt conditions\n",
    "effect_lst=[\"boost\",\"suppress\"]\n",
    "vec_lst = [\"mean\",\"longtail\"]\n",
    "model_lst = [\"70m\",\"410m\"]\n",
    "neuron_lst = [10,50,500]\n",
    "\n",
    "stat_frame = pd.DataFrame()\n",
    "for vec in vec_lst:\n",
    "    for model in model_lst:\n",
    "        suffix_path = Path(vec)/\"EleutherAI\"/f\"pythia-{model}-deduped\"\n",
    "        data_dict = {}\n",
    "        for neuron in neuron_lst:\n",
    "            data_dict[neuron] = {}\n",
    "            for effect in effect_lst:\n",
    "                # load file\n",
    "                file_path = KL_path / effect / suffix_path / f\"500_{neuron}.csv\"\n",
    "                kl_lst,stat_df = load_kl(file_path)\n",
    "                data_dict[neuron][effect] = kl_lst\n",
    "                header_dict = {\"vec\":vec,\"model\":model,\"neuron\":neuron,\"effect\":effect}\n",
    "                for header,col in header_dict.items():\n",
    "                    stat_df[header]=col\n",
    "                stat_frame = pd.concat([stat_frame,stat_df])\n",
    "\n",
    "stat_frame.to_csv(KL_path / \"kl_stat.csv\")"
   ]
  },
  {
   "cell_type": "markdown",
   "metadata": {},
   "source": [
    "## Geometric difference"
   ]
  },
  {
   "cell_type": "code",
   "execution_count": 109,
   "metadata": {},
   "outputs": [],
   "source": [
    "# load file\n",
    "model_lst = [\"70m\", \"410m\"]\n",
    "metric_lst = [\"subspace\", \"orthogonality\"]\n",
    "neuron_lst = [10, 50, 500]\n",
    "metric_dict = {\n",
    "    \"subspace\": [\"dim_prop\", \"sv_decay_rate_2\"],\n",
    "    \"orthogonality\": [\"pct_near_orthogonal\", \"mean_angle_degrees\"],\n",
    "}\n",
    "ylim_dict = {\n",
    "    \"dim_prop\": [0, 1.1],\n",
    "    \"sv_decay_rate_2\": [1, 3],\n",
    "    \"pct_near_orthogonal\": [0, 100],\n",
    "    \"mean_angle_degrees\": [0, 90],\n",
    "}\n",
    "\n",
    "\n",
    "neuron_type_lst = []\n",
    "\n",
    "\n",
    "for metric in metric_lst:\n",
    "    output_path = fig_path / metric\n",
    "    plot_geometry_step(geometry_path,output_path, metric, model_lst, neuron_lst, neuron_type_lst, ylim_dict, metric_dict)\n"
   ]
  },
  {
   "cell_type": "code",
   "execution_count": null,
   "metadata": {},
   "outputs": [],
   "source": []
  },
  {
   "cell_type": "markdown",
   "metadata": {},
   "source": []
  }
 ],
 "metadata": {
  "kernelspec": {
   "display_name": "genai",
   "language": "python",
   "name": "python3"
  },
  "language_info": {
   "codemirror_mode": {
    "name": "ipython",
    "version": 3
   },
   "file_extension": ".py",
   "mimetype": "text/x-python",
   "name": "python",
   "nbconvert_exporter": "python",
   "pygments_lexer": "ipython3",
   "version": "3.12.4"
  }
 },
 "nbformat": 4,
 "nbformat_minor": 2
}
