{
 "cells": [
  {
   "cell_type": "markdown",
   "metadata": {},
   "source": [
    "# Set configs\n"
   ]
  },
  {
   "cell_type": "code",
   "execution_count": 9,
   "metadata": {},
   "outputs": [],
   "source": [
    "from pathlib import Path\n",
    "\n",
    "import matplotlib.pyplot as plt\n",
    "import numpy as np\n",
    "import pandas as pd\n",
    "from scipy import stats"
   ]
  },
  {
   "cell_type": "code",
   "execution_count": 11,
   "metadata": {},
   "outputs": [],
   "source": [
    "# load all the predefined functions\n",
    "from plot_util import SurprisalLoader"
   ]
  },
  {
   "cell_type": "code",
   "execution_count": 12,
   "metadata": {},
   "outputs": [],
   "source": [
    "ROOT = Path(\"/Users/jliu/workspace/RAG/\")\n",
    "fig_path = ROOT / \"fig\"\n",
    "surprisal_path = ROOT / \"results\" / \"surprisal\"\n",
    "KL_path = ROOT / \"results\" / \"token_freq\"\n",
    "freq_path = ROOT / \"datasets/freq/EleutherAI/pythia-410m\""
   ]
  },
  {
   "cell_type": "markdown",
   "metadata": {},
   "source": [
    "## Plot surprisal dynamics"
   ]
  },
  {
   "cell_type": "code",
   "execution_count": 13,
   "metadata": {},
   "outputs": [
    {
     "name": "stdout",
     "output_type": "stream",
     "text": [
      "Stat file has been saved to /Users/jliu/workspace/RAG/results/surprisal/stat_all.csv\n"
     ]
    }
   ],
   "source": [
    "# load file\n",
    "stat_path = surprisal_path / \"stat_all.csv\"\n",
    "\n",
    "if stat_path.is_file():\n",
    "    stat_frame = pd.read_csv(stat_path)\n",
    "else:\n",
    "    analyzer = SurprisalLoader(surprisal_path)\n",
    "    # Process all files and get statistics\n",
    "    stats = analyzer.get_stat_all()\n"
   ]
  },
  {
   "cell_type": "code",
   "execution_count": 19,
   "metadata": {},
   "outputs": [
    {
     "name": "stdout",
     "output_type": "stream",
     "text": [
      "Processing eval=surprisal, vec=mean, model=70m, ablation=mean\n"
     ]
    },
    {
     "ename": "AttributeError",
     "evalue": "'NoneType' object has no attribute 'get'",
     "output_type": "error",
     "traceback": [
      "\u001b[0;31m---------------------------------------------------------------------------\u001b[0m",
      "\u001b[0;31mAttributeError\u001b[0m                            Traceback (most recent call last)",
      "Cell \u001b[0;32mIn[19], line 1\u001b[0m\n\u001b[0;32m----> 1\u001b[0m \u001b[43mplot_all\u001b[49m\u001b[43m(\u001b[49m\u001b[43mstats\u001b[49m\u001b[43m)\u001b[49m\n",
      "Cell \u001b[0;32mIn[18], line 55\u001b[0m, in \u001b[0;36mplot_all\u001b[0;34m(df, output_dir, eval_set, neurons, neuron_colors, ylim_dict)\u001b[0m\n\u001b[1;32m     48\u001b[0m y_values \u001b[38;5;241m=\u001b[39m [\n\u001b[1;32m     49\u001b[0m     baseline_grouped\u001b[38;5;241m.\u001b[39mget_group(log_step)[\u001b[38;5;124m\"\u001b[39m\u001b[38;5;124msurprisal\u001b[39m\u001b[38;5;124m\"\u001b[39m]\u001b[38;5;241m.\u001b[39mvalues[\u001b[38;5;241m0\u001b[39m]\n\u001b[1;32m     50\u001b[0m     \u001b[38;5;28;01mfor\u001b[39;00m log_step \u001b[38;5;129;01min\u001b[39;00m x_values\n\u001b[1;32m     51\u001b[0m     \u001b[38;5;28;01mif\u001b[39;00m log_step \u001b[38;5;129;01min\u001b[39;00m baseline_grouped\u001b[38;5;241m.\u001b[39mgroups\n\u001b[1;32m     52\u001b[0m ]\n\u001b[1;32m     54\u001b[0m \u001b[38;5;66;03m# Plot baseline\u001b[39;00m\n\u001b[0;32m---> 55\u001b[0m plt\u001b[38;5;241m.\u001b[39mplot(x_values, y_values, color\u001b[38;5;241m=\u001b[39m\u001b[43mneuron_colors\u001b[49m\u001b[38;5;241;43m.\u001b[39;49m\u001b[43mget\u001b[49m(\u001b[38;5;241m0\u001b[39m, \u001b[38;5;124m\"\u001b[39m\u001b[38;5;124mblack\u001b[39m\u001b[38;5;124m\"\u001b[39m), linewidth\u001b[38;5;241m=\u001b[39m\u001b[38;5;241m2\u001b[39m, label\u001b[38;5;241m=\u001b[39m\u001b[38;5;124m\"\u001b[39m\u001b[38;5;124mbase\u001b[39m\u001b[38;5;124m\"\u001b[39m)\n\u001b[1;32m     57\u001b[0m \u001b[38;5;66;03m# Process each neuron condition for this ablation\u001b[39;00m\n\u001b[1;32m     58\u001b[0m \u001b[38;5;28;01mfor\u001b[39;00m neuron \u001b[38;5;129;01min\u001b[39;00m neurons:\n\u001b[1;32m     59\u001b[0m     \u001b[38;5;66;03m# Filter data for this neuron and ablation combination\u001b[39;00m\n",
      "\u001b[0;31mAttributeError\u001b[0m: 'NoneType' object has no attribute 'get'"
     ]
    },
    {
     "data": {
      "text/plain": [
       "<Figure size 1000x800 with 0 Axes>"
      ]
     },
     "metadata": {},
     "output_type": "display_data"
    }
   ],
   "source": [
    "\n",
    "plot_all(stats)"
   ]
  },
  {
   "cell_type": "code",
   "execution_count": 20,
   "metadata": {},
   "outputs": [],
   "source": [
    "# plot and save the results\n",
    "neuron_colors = {\n",
    "    0: \"#1f77b4\",  # blue for baseline\n",
    "    1: \"#4589b9\",  # interpolated between 0 and 10\n",
    "    2: \"#6b9bbe\",  # interpolated between 0 and 10\n",
    "    5: \"#a5bec6\",  # interpolated between 0 and 10\n",
    "    10: \"#ff7f0e\",  # orange (unchanged)\n",
    "    25: \"#c89f1d\",  # interpolated between 10 and 50\n",
    "    50: \"#2ca02c\",  # green (unchanged)\n",
    "    500: \"#9467bd\",  # purple (unchanged)\n",
    "}\n",
    "\n",
    "\n",
    "def plot_all(\n",
    "    df,\n",
    "    output_dir: str = fig_path,\n",
    "    eval_set: str= \"surprisal\",\n",
    "    neurons: list[int] = [1, 2, 5, 10, 25, 50],\n",
    "    neuron_colors: dict = neuron_colors,\n",
    "    ylim_dict: dict = None,\n",
    ") -> None:\n",
    "    \"\"\"Plot the overall development with simplified metrics handling.\"\"\"\n",
    "    # Get unique values for grouping\n",
    "    models = df[\"model\"].unique()\n",
    "    effect_lst = df[\"effect\"].unique()\n",
    "    vec_lst = [\"mean\", \"longtail\"]\n",
    "    ablations = [a for a in df[\"ablation\"].unique() if a != \"base\"]  # Non-baseline ablations\n",
    "\n",
    "    # Process each model and ablation type\n",
    "    for effect in effect_lst:\n",
    "        for vec in vec_lst:\n",
    "            for model in models:\n",
    "                for ablation in ablations:\n",
    "                    print(f\"Processing eval={eval_set}, vec={vec}, model={model}, ablation={ablation}\")\n",
    "\n",
    "                    # Create a new figure\n",
    "                    plt.figure(figsize=(10, 8))\n",
    "\n",
    "                    # Filter data for this model\n",
    "                    model_data = df[\n",
    "                        (df[\"model\"] == model)\n",
    "                        & (df[\"vec\"] == vec)\n",
    "                        & (df[\"eval\"] == eval_set)\n",
    "                        & (df[\"effect\"] == effect)\n",
    "                    ]\n",
    "\n",
    "                    # Get baseline data (always include baseline for comparison)\n",
    "                    baseline_data = df[\n",
    "                        (df[\"model\"] == model)\n",
    "                        & (df[\"ablation\"] == \"base\")\n",
    "                        & (df[\"eval\"] == eval_set)\n",
    "                        & (df[\"effect\"] == effect)\n",
    "                    ]\n",
    "\n",
    "                    # Group baseline data by log_step\n",
    "                    baseline_grouped = baseline_data.groupby(\"log_step\")\n",
    "                    x_values = sorted(baseline_data[\"log_step\"].unique())\n",
    "\n",
    "                    # Extract surprisal values directly (no need for mean across metrics)\n",
    "                    y_values = [\n",
    "                        baseline_grouped.get_group(log_step)[\"surprisal\"].values[0]\n",
    "                        for log_step in x_values\n",
    "                        if log_step in baseline_grouped.groups\n",
    "                    ]\n",
    "\n",
    "                    # Plot baseline\n",
    "                    plt.plot(x_values, y_values, color=neuron_colors.get(0, \"black\"), linewidth=2, label=\"base\")\n",
    "\n",
    "                    # Process each neuron condition for this ablation\n",
    "                    for neuron in neurons:\n",
    "                        # Filter data for this neuron and ablation combination\n",
    "                        condition_data = model_data[\n",
    "                            (model_data[\"neuron\"] == neuron) & (model_data[\"ablation\"] == ablation)\n",
    "                        ]\n",
    "\n",
    "                        if condition_data.empty:\n",
    "                            continue\n",
    "\n",
    "                        # Group by log_step\n",
    "                        condition_grouped = condition_data.groupby(\"log_step\")\n",
    "                        x_values = sorted(condition_data[\"log_step\"].unique())\n",
    "\n",
    "                        # Extract surprisal values directly\n",
    "                        y_values = [\n",
    "                            condition_grouped.get_group(log_step)[\"surprisal\"].values[0]\n",
    "                            for log_step in x_values\n",
    "                            if log_step in condition_grouped.groups\n",
    "                        ]\n",
    "\n",
    "                        # Plot this neuron condition\n",
    "                        plt.plot(\n",
    "                            x_values, y_values, color=neuron_colors.get(neuron, \"gray\"), linewidth=2, label=str(neuron)\n",
    "                        )\n",
    "\n",
    "                    # Style the plot\n",
    "                    plt.xlabel(\"Log step\", fontsize=11)\n",
    "                    plt.ylabel(\"Surprisal\", fontsize=11)\n",
    "                    plt.title(f\"model={model}, intervention={ablation}\", fontsize=13)\n",
    "                    plt.grid(alpha=0.2)\n",
    "\n",
    "                    # Create legend\n",
    "                    handles, labels = plt.gca().get_legend_handles_labels()\n",
    "\n",
    "                    # If baseline is in the legend, make sure it comes first\n",
    "                    if \"base\" in labels:\n",
    "                        base_idx = labels.index(\"base\")\n",
    "                        # Move baseline to front\n",
    "                        handles = [handles[base_idx]] + [h for i, h in enumerate(handles) if i != base_idx]\n",
    "                        labels = [labels[base_idx]] + [l for i, l in enumerate(labels) if i != base_idx]\n",
    "\n",
    "                    plt.legend(handles, labels, loc=\"lower left\")\n",
    "\n",
    "                    # Set y-axis limits if provided\n",
    "                    if ylim_dict and eval_set in ylim_dict and model in ylim_dict[eval_set]:\n",
    "                        plt.ylim(ylim_dict[eval_set][model])\n",
    "\n",
    "                    # Save the figure\n",
    "                    plt.tight_layout()\n",
    "                    # Create output directory if it doesn't exist\n",
    "                    (output_dir / effect).mkdir(parents=True, exist_ok=True)\n",
    "                    plt.savefig(output_dir / effect / f\"{vec}_{model}_{ablation}.png\", dpi=300, bbox_inches=\"tight\")\n",
    "                    plt.close()"
   ]
  }
 ],
 "metadata": {
  "kernelspec": {
   "display_name": "genai",
   "language": "python",
   "name": "python3"
  },
  "language_info": {
   "codemirror_mode": {
    "name": "ipython",
    "version": 3
   },
   "file_extension": ".py",
   "mimetype": "text/x-python",
   "name": "python",
   "nbconvert_exporter": "python",
   "pygments_lexer": "ipython3",
   "version": "3.9.21"
  }
 },
 "nbformat": 4,
 "nbformat_minor": 2
}
